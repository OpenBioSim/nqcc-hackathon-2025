{
 "cells": [
  {
   "cell_type": "markdown",
   "id": "66876a19-2b4c-48e4-95a9-150c75699b1f",
   "metadata": {},
   "source": [
    "# Model definition"
   ]
  },
  {
   "cell_type": "code",
   "execution_count": 2,
   "id": "99004726-35b6-4d98-bf10-3c21c40ec801",
   "metadata": {},
   "outputs": [],
   "source": [
    "import pennylane as qml\n",
    "from pennylane import qchem\n",
    "from jax import numpy as jnp\n",
    "import numpy as np\n",
    "# system setup \n",
    "active_electrons = 2 #12\n",
    "active_orbitals = 3  #8\n",
    "# atomic symbols defining the molecule\n",
    "symbols = ['O', 'O']\n",
    "r = 2.30 # Coordinates in Bohr \n",
    "coordinates = jnp.array([[0.0, 0.0, 0.0], [0.0, 0.0, r]])"
   ]
  },
  {
   "cell_type": "code",
   "execution_count": null,
   "id": "46b82f5e-6eb5-4944-9eeb-9337b6cf3c54",
   "metadata": {},
   "outputs": [],
   "source": [
    "# SKIP ME\n",
    "import optax\n",
    "from pennylane import AllSinglesDoubles\n",
    "# Construct the Molecule object\n",
    "molecule = qchem.Molecule(symbols, coordinates)\n",
    "# Obtain the qubit Hamiltonian\n",
    "H, qubits = qchem.molecular_hamiltonian(molecule, active_electrons=active_electrons, active_orbitals=active_orbitals, method='pyscf')\n",
    "singles, doubles = qchem.excitations(active_electrons, qubits)\n",
    "hf = qchem.hf_state(active_electrons, qubits)\n",
    "print(f\"Total number of excitations = {len(singles) + len(doubles)}\")\n",
    "# VQE define the device, optimizer and circuit\n",
    "dev = qml.device(\"lightning.qubit\", wires=qubits)\n",
    "opt = optax.sgd(learning_rate=0.4) # sgd stands for StochasticGradientDescent\n",
    "\n",
    "@qml.qnode(dev, interface='jax')\n",
    "def circuit(parameters):\n",
    "    AllSinglesDoubles(parameters, range(qubits), hf, singles, doubles)\n",
    "    return qml.expval(H)  # we are interested in minimizing this expectation value\n",
    "\n",
    "# initialize the gate parameters\n",
    "init_params = jnp.zeros(len(singles) + len(doubles))\n",
    "\n",
    "prev_energy = 0.0\n",
    "@qml.qjit\n",
    "def update_step(i, params, opt_state):\n",
    "    \"\"\"Perform a single gradient update step\"\"\"\n",
    "    grads = qml.grad(circuit)(params)\n",
    "    updates, opt_state = opt.update(grads, opt_state)\n",
    "    params = optax.apply_updates(params, updates)\n",
    "    return (params, opt_state)\n",
    "\n",
    "opt_state = opt.init(init_params)\n",
    "params = init_params\n",
    "energy = 0.0\n",
    "prev_energy = energy\n",
    "for i in range(50):\n",
    "    print (i,params,energy)    \n",
    "    params, opt_state = update_step(i, params, opt_state)\n",
    "    energy = circuit(params)\n",
    "    if jnp.abs(energy - prev_energy) < 1e-6:\n",
    "        break\n",
    "    prev_energy = energy\n"
   ]
  },
  {
   "cell_type": "markdown",
   "id": "4b0d348f-f1ff-4c08-8898-4bcaea971bc6",
   "metadata": {},
   "source": [
    "# Ground state optimisation"
   ]
  },
  {
   "cell_type": "code",
   "execution_count": 3,
   "id": "9ca57845-369f-424c-b2d2-7cef415f9e08",
   "metadata": {},
   "outputs": [],
   "source": [
    "# Construct the Molecule object\n",
    "molecule = qchem.Molecule(symbols, coordinates)\n",
    "# Obtain the qubit Hamiltonian\n",
    "H, qubits = qchem.molecular_hamiltonian(molecule, active_electrons=active_electrons, active_orbitals=active_orbitals, method='openfermion')"
   ]
  },
  {
   "cell_type": "code",
   "execution_count": 17,
   "id": "3f8edc9e-1399-4823-9aff-05dab3290317",
   "metadata": {},
   "outputs": [
    {
     "name": "stdout",
     "output_type": "stream",
     "text": [
      "34 6\n"
     ]
    }
   ],
   "source": [
    "print (len(H),qubits)"
   ]
  },
  {
   "cell_type": "code",
   "execution_count": 5,
   "id": "58dfed40-9e07-466c-b5ab-99f52e4817e3",
   "metadata": {},
   "outputs": [
    {
     "name": "stdout",
     "output_type": "stream",
     "text": [
      "[1 1 0 0 0 0]\n",
      "[[0, 2], [0, 4], [1, 3], [1, 5]]\n",
      "[[0, 1, 2, 3], [0, 1, 2, 5], [0, 1, 3, 4], [0, 1, 4, 5]]\n",
      "Total number of excitations = 8\n"
     ]
    }
   ],
   "source": [
    "#Initial state preparation and excitations\n",
    "from pennylane import AllSinglesDoubles\n",
    "singles, doubles = qchem.excitations(active_electrons, qubits)#, delta_sz = 0)\n",
    "hf = qchem.hf_state(active_electrons, qubits)\n",
    "print (hf)\n",
    "#We set the trial state to the triplet state\n",
    "#init_state = np.array([1,0,1,0,0,0])\n",
    "init_state = hf\n",
    "print (singles)\n",
    "print (doubles)\n",
    "print(f\"Total number of excitations = {len(singles) + len(doubles)}\")\n",
    "\n",
    "dev = qml.device(\"lightning.qubit\", wires=qubits)\n",
    "@qml.qnode(dev, interface='jax')\n",
    "def circuit(parameters):\n",
    "    AllSinglesDoubles(parameters, range(qubits), init_state, singles, doubles)\n",
    "    return qml.expval(H)  # we are interested in minimizing this expectation value"
   ]
  },
  {
   "cell_type": "code",
   "execution_count": 6,
   "id": "b9897287-c746-471c-8951-f7379fa81df1",
   "metadata": {},
   "outputs": [
    {
     "name": "stdout",
     "output_type": "stream",
     "text": [
      "0 [0.05869696 0.706184   0.91819555 0.4433967  0.0732339  0.99163115\n",
      " 0.6787446  0.36899516] 0.0\n",
      "10 [0.19908297 0.17702639 1.1172736  0.24832663 0.43059897 0.26510888\n",
      " 0.2214938  0.09001211] -147.56400682269614\n",
      "20 [0.3267476  0.03647298 1.3328049  0.10822787 0.6734624  0.07509397\n",
      " 0.05063926 0.04992758] -147.5937715607773\n",
      "30 [0.47652704 0.01002512 1.5382162  0.05410179 0.8821155  0.03367584\n",
      " 0.01352903 0.03800919] -147.60816610242736\n",
      "40 [0.6224871  0.00378034 1.716684   0.03206262 1.0624197  0.02115015\n",
      " 0.00473704 0.02938116] -147.61891496889314\n",
      "50 [7.4247611e-01 1.8504320e-03 1.8542883e+00 2.1801885e-02 1.2064813e+00\n",
      " 1.5795067e-02 2.2032412e-03 2.2224993e-02] -147.62565051608559\n",
      "60 [8.30480635e-01 1.09673385e-03 1.95131564e+00 1.62548702e-02\n",
      " 1.31420982e+00 1.28169125e-02 1.28735369e-03 1.64549593e-02] -147.62922943268302\n",
      "70 [8.9100009e-01 7.4091071e-04 2.0163126e+00 1.2841704e-02 1.3916434e+00\n",
      " 1.0823568e-02 8.7819784e-04 1.1977539e-02] -147.6309573518433\n",
      "80 [9.3127507e-01 5.4589083e-04 2.0587769e+00 1.0522859e-02 1.4462043e+00\n",
      " 9.3204994e-03 6.6000753e-04 8.6065158e-03] -147.63175463793985\n",
      "90 [9.5765018e-01 4.2596884e-04 2.0862174e+00 8.8284761e-03 1.4842985e+00\n",
      " 8.1057362e-03 5.2616879e-04 6.1245533e-03] -147.63211602071195\n",
      "ground state energy -147.63227907107776 parameters [9.7478646e-01 3.4541058e-04 2.1038723e+00 7.5227642e-03 1.5107890e+00\n",
      " 7.0858537e-03 4.3486082e-04 4.3270052e-03] \n"
     ]
    }
   ],
   "source": [
    "# VQE define the device, optimizer and circuit\n",
    "import optax\n",
    "opt = optax.sgd(learning_rate=0.8) # sgd stands for StochasticGradientDescent - increasing learning rate seems to help !\n",
    "# initialize the gate parameters\n",
    "# Note that starting from all zeros and hf qubit register init gives us a barren plateau and VQE failure\n",
    "#init_params = jnp.zeros(len(singles) + len(doubles))\n",
    "init_vals = np.random.rand(len(singles)+len(doubles))\n",
    "init_params = jnp.array(init_vals)\n",
    "\n",
    "@qml.qjit\n",
    "def update_step(i, params, opt_state):\n",
    "    \"\"\"Perform a single gradient update step\"\"\"\n",
    "    grads = qml.grad(circuit)(params)\n",
    "    updates, opt_state = opt.update(grads, opt_state)\n",
    "    params = optax.apply_updates(params, updates)\n",
    "    return (params, opt_state)\n",
    "\n",
    "opt_state = opt.init(init_params)\n",
    "params = init_params\n",
    "energy = 0.0\n",
    "prev_energy = energy\n",
    "for i in range(100):\n",
    "    if (i % 10 == 0):\n",
    "        print (i,params,energy)    \n",
    "    params, opt_state = update_step(i, params, opt_state)\n",
    "    energy = circuit(params)\n",
    "    if jnp.abs(energy - prev_energy) < 1e-6:\n",
    "        break\n",
    "    prev_energy = energy\n",
    "ground_state_energy = energy\n",
    "ground_state_params = params\n",
    "print (\"ground state energy %s parameters %s \" % (ground_state_energy, ground_state_params))"
   ]
  },
  {
   "cell_type": "code",
   "execution_count": 7,
   "id": "0411e85b-487e-47fe-9e9e-bd6d02acd57e",
   "metadata": {},
   "outputs": [
    {
     "name": "stdout",
     "output_type": "stream",
     "text": [
      "spin 1.9962171946438545\n"
     ]
    }
   ],
   "source": [
    "# Verify spin state\n",
    "S2 = qml.qchem.spin2(active_electrons, qubits)\n",
    "@qml.qnode(dev, interface=\"jax\")\n",
    "def S2_exp_value(parameters):\n",
    "    AllSinglesDoubles(parameters, range(qubits), init_state, singles, doubles)\n",
    "    return qml.expval(S2)\n",
    "\n",
    "s2_val = S2_exp_value(ground_state_params)\n",
    "print ('spin %s' % s2_val)"
   ]
  },
  {
   "cell_type": "code",
   "execution_count": 10,
   "id": "0bbc7911-5c22-45b8-8e22-628555bd200b",
   "metadata": {},
   "outputs": [
    {
     "name": "stdout",
     "output_type": "stream",
     "text": [
      "0: ─╭|Ψ⟩─╭G²(1.51)─╭G²(0.01)─╭G²(0.00)─╭G²(0.00)─╭G(0.97)─╭G(0.00)───────────────────┤  \n",
      "1: ─├|Ψ⟩─├G²(1.51)─├G²(0.01)─├G²(0.00)─├G²(0.00)─│────────│────────╭G(2.10)─╭G(0.01)─┤  \n",
      "2: ─├|Ψ⟩─├G²(1.51)─├G²(0.01)─│─────────│─────────╰G(0.97)─│────────│────────│────────┤  \n",
      "3: ─├|Ψ⟩─╰G²(1.51)─│─────────├G²(0.00)─│──────────────────│────────╰G(2.10)─│────────┤  \n",
      "4: ─├|Ψ⟩───────────│─────────╰G²(0.00)─├G²(0.00)──────────╰G(0.00)──────────│────────┤  \n",
      "5: ─╰|Ψ⟩───────────╰G²(0.01)───────────╰G²(0.00)────────────────────────────╰G(0.01)─┤  \n"
     ]
    }
   ],
   "source": [
    "from functools import partial\n",
    "# This line is added to better visualise the circuit with the optimised ground state parameters\n",
    "@partial(qml.transforms.decompose, max_expansion=1)\n",
    "def ansatz(parameters, wires):\n",
    "    AllSinglesDoubles(parameters, range(qubits), init_state, singles, doubles)\n",
    "    #return qml.expval(H)  # we are interested in minimizing this expectation value\n",
    "\n",
    "#theta = np.random.rand(3) # 3 parameters for the ansatz\n",
    "#theta=params\n",
    "print(qml.draw(ansatz, decimals = 2)(ground_state_params,range(qubits)))"
   ]
  },
  {
   "cell_type": "markdown",
   "id": "ddf97c7b-f69b-45c5-b23d-ba1f5edd4a1d",
   "metadata": {},
   "source": [
    "# First excited state optimisation"
   ]
  },
  {
   "cell_type": "code",
   "execution_count": 11,
   "id": "095352fa-1d71-439f-9e5f-85f554880ccd",
   "metadata": {},
   "outputs": [
    {
     "name": "stdout",
     "output_type": "stream",
     "text": [
      " 7: ─╭|Ψ⟩─╭G²(0.96)─╭G²(0.13)─╭G²(0.97)─╭G²(0.40)─╭G(0.25)─╭G(0.12)───────────────────┤  \n",
      " 8: ─├|Ψ⟩─├G²(0.96)─├G²(0.13)─├G²(0.97)─├G²(0.40)─│────────│────────╭G(0.99)─╭G(0.11)─┤  \n",
      " 9: ─├|Ψ⟩─├G²(0.96)─├G²(0.13)─│─────────│─────────╰G(0.25)─│────────│────────│────────┤  \n",
      "10: ─├|Ψ⟩─╰G²(0.96)─│─────────├G²(0.97)─│──────────────────│────────╰G(0.99)─│────────┤  \n",
      "11: ─├|Ψ⟩───────────│─────────╰G²(0.97)─├G²(0.40)──────────╰G(0.12)──────────│────────┤  \n",
      "12: ─╰|Ψ⟩───────────╰G²(0.13)───────────╰G²(0.40)────────────────────────────╰G(0.11)─┤  \n"
     ]
    }
   ],
   "source": [
    "#from functools import partial\n",
    "# Our trial state is defined with the same circuit but we assign random gate parameters\n",
    "# The excitations are renumbered to match the wires position\n",
    "# This line is added to better visualise the circuit\n",
    "@partial(qml.transforms.decompose, max_expansion=1)\n",
    "\n",
    "def ansatz(theta, wires):\n",
    "    singles, doubles = qml.qchem.excitations(active_electrons, qubits)#, delta_sz = 0 )\n",
    "    #print(f\"Total number of excitations = {len(singles) + len(doubles)}\")\n",
    "    #print (singles)\n",
    "    singles = [[wires[i] for i in single] for single in singles]\n",
    "    doubles = [[wires[i] for i in double] for double in doubles]\n",
    "    #print (singles)\n",
    "    AllSinglesDoubles(theta, wires, hf, singles, doubles)\n",
    "\n",
    "theta = np.random.rand(8) # 8 parameters for the ansatz\n",
    "print(qml.draw(ansatz, decimals = 2)(theta, range(7,13)))"
   ]
  },
  {
   "cell_type": "code",
   "execution_count": 12,
   "id": "94ffd9e1-0f55-41b8-8d1a-52441c39e869",
   "metadata": {},
   "outputs": [
    {
     "name": "stdout",
     "output_type": "stream",
     "text": [
      " 0: ───────────────────────────────────────────────────────────────────────────────────||──H─╭●───\n",
      " 1: ─╭|Ψ⟩─╭G²(1.51)─╭G²(0.01)─╭G²(0.00)─╭G²(0.00)─╭G(0.97)─╭G(0.00)────────────────────||────├SWAP\n",
      " 2: ─├|Ψ⟩─├G²(1.51)─├G²(0.01)─├G²(0.00)─├G²(0.00)─│────────│────────╭G(2.10)─╭G(0.01)──||────│────\n",
      " 3: ─├|Ψ⟩─├G²(1.51)─├G²(0.01)─│─────────│─────────╰G(0.97)─│────────│────────│─────────||────│────\n",
      " 4: ─├|Ψ⟩─╰G²(1.51)─│─────────├G²(0.00)─│──────────────────│────────╰G(2.10)─│─────────||────│────\n",
      " 5: ─├|Ψ⟩───────────│─────────╰G²(0.00)─├G²(0.00)──────────╰G(0.00)──────────│─────────||────│────\n",
      " 6: ─╰|Ψ⟩───────────╰G²(0.01)───────────╰G²(0.00)────────────────────────────╰G(0.01)──||────│────\n",
      " 7: ─╭|Ψ⟩─╭G²(0.96)─╭G²(0.13)─╭G²(0.97)─╭G²(0.40)─╭G(0.25)─╭G(0.12)────────────────────||────╰SWAP\n",
      " 8: ─├|Ψ⟩─├G²(0.96)─├G²(0.13)─├G²(0.97)─├G²(0.40)─│────────│────────╭G(0.99)─╭G(0.11)──||─────────\n",
      " 9: ─├|Ψ⟩─├G²(0.96)─├G²(0.13)─│─────────│─────────╰G(0.25)─│────────│────────│─────────||─────────\n",
      "10: ─├|Ψ⟩─╰G²(0.96)─│─────────├G²(0.97)─│──────────────────│────────╰G(0.99)─│─────────||─────────\n",
      "11: ─├|Ψ⟩───────────│─────────╰G²(0.97)─├G²(0.40)──────────╰G(0.12)──────────│─────────||─────────\n",
      "12: ─╰|Ψ⟩───────────╰G²(0.13)───────────╰G²(0.40)────────────────────────────╰G(0.11)──||─────────\n",
      "\n",
      "──╭●────╭●────╭●────╭●────╭●─────H─┤  <Z>\n",
      "──│─────│─────│─────│─────│────────┤     \n",
      "──├SWAP─│─────│─────│─────│────────┤     \n",
      "──│─────├SWAP─│─────│─────│────────┤     \n",
      "──│─────│─────├SWAP─│─────│────────┤     \n",
      "──│─────│─────│─────├SWAP─│────────┤     \n",
      "──│─────│─────│─────│─────├SWAP────┤     \n",
      "──│─────│─────│─────│─────│────────┤     \n",
      "──╰SWAP─│─────│─────│─────│────────┤     \n",
      "────────╰SWAP─│─────│─────│────────┤     \n",
      "──────────────╰SWAP─│─────│────────┤     \n",
      "────────────────────╰SWAP─│────────┤     \n",
      "──────────────────────────╰SWAP────┤     \n",
      "\n",
      "Overlap between the ground state and the ansatz: 0.30184036484613186\n"
     ]
    }
   ],
   "source": [
    "# To implement the SWAP test need to \n",
    "# lay on wires 1 to qubits+1 the ground state \n",
    "# lay on wires qubits+2 the ansatz to generate the excited state\n",
    "# add Hadmard on wire 0\n",
    "# add CSWAP for each pair of qubits\n",
    "# add another Hadamard on wire 0\n",
    "# measure Pauli Z operator on wire 0\n",
    "dev = qml.device(\"lightning.qubit\", wires=2*qubits+1)\n",
    "@partial(qml.transforms.decompose, max_expansion=1)\n",
    "@qml.qnode(dev)\n",
    "def swap_test(params):\n",
    "    # generate_ground_state(range(1, n_qubits + 1))\n",
    "    #AllSinglesDoubles(ground_state_params, [1,2,3,4], hf, singles, doubles)\n",
    "    ansatz(ground_state_params,range(1, qubits+1))\n",
    "    ansatz(params, range(qubits + 1, 2 * qubits + 1))\n",
    "    qml.Barrier()  # added to better visualise the circuit\n",
    "    qml.Hadamard(wires=0)\n",
    "    for i in range(qubits):\n",
    "        qml.CSWAP(wires=[0, 1 + i + qubits, 1 + i])\n",
    "    qml.Hadamard(wires=0)\n",
    "    return qml.expval(qml.Z(0))\n",
    "\n",
    "print(qml.draw(swap_test)(theta))\n",
    "print(f\"\\nOverlap between the ground state and the ansatz: {swap_test(theta)}\")"
   ]
  },
  {
   "cell_type": "code",
   "execution_count": 13,
   "id": "d055d3f2-42fa-4aaf-a344-8f94502b170f",
   "metadata": {},
   "outputs": [],
   "source": [
    "# loss function\n",
    "@qml.qnode(dev)\n",
    "def expected_value(theta):\n",
    "    ansatz(theta, range(qubits))\n",
    "    return qml.expval(H)\n",
    "\n",
    "def loss_f(theta, beta):\n",
    "    return expected_value(theta) + beta * swap_test(theta)\n"
   ]
  },
  {
   "cell_type": "code",
   "execution_count": 14,
   "id": "31b62c2a-4bf2-481a-9364-e22616e7648a",
   "metadata": {},
   "outputs": [
    {
     "name": "stdout",
     "output_type": "stream",
     "text": [
      "\n",
      "Step = 0,  Energy = -147.37291532 Ha\n",
      "Step = 5,  Energy = -147.50584032 Ha\n",
      "Step = 10,  Energy = -147.54291399 Ha\n",
      "Step = 15,  Energy = -147.55801559 Ha\n",
      "Step = 20,  Energy = -147.56497864 Ha\n",
      "Step = 25,  Energy = -147.56851171 Ha\n",
      "Step = 30,  Energy = -147.57047390 Ha\n",
      "Step = 35,  Energy = -147.57168414 Ha\n",
      "Step = 40,  Energy = -147.57251954 Ha\n",
      "Step = 45,  Energy = -147.57315711 Ha\n",
      "Step = 50,  Energy = -147.57368136 Ha\n",
      "Step = 55,  Energy = -147.57413357 Ha\n",
      "Step = 60,  Energy = -147.57453465 Ha\n",
      "Step = 65,  Energy = -147.57489581 Ha\n",
      "Step = 70,  Energy = -147.57522356 Ha\n",
      "Step = 75,  Energy = -147.57552212 Ha\n",
      "Step = 80,  Energy = -147.57579453 Ha\n",
      "Step = 85,  Energy = -147.57604318 Ha\n",
      "Step = 90,  Energy = -147.57627014 Ha\n",
      "Step = 95,  Energy = -147.57647720 Ha\n",
      "\n",
      "Estimated energy: -147.57662964\n",
      "\n",
      "Optimised Parameters: [-1.73314983e-01 -8.31615726e-06  9.72010063e-02  4.49307998e-04\n",
      "  1.17457002e+00  8.87066246e-04  8.98467494e-04  2.77664168e-02]\n"
     ]
    }
   ],
   "source": [
    "# now optimise\n",
    "import jax\n",
    "import optax\n",
    "\n",
    "jax.config.update(\"jax_platform_name\", \"cpu\")\n",
    "jax.config.update(\"jax_enable_x64\", True)\n",
    "print()\n",
    "\n",
    "theta = jax.numpy.array([0.1, 0.2, 0.3, 0.4, 0.5, 0.6, 0.7, 0.8])\n",
    "beta = 2\n",
    "\n",
    "# Store the values of the cost function\n",
    "energy = [loss_f(theta, beta)]\n",
    "\n",
    "conv_tol = 1e-6\n",
    "max_iterations = 100\n",
    "\n",
    "opt = optax.sgd(learning_rate=0.4)\n",
    "\n",
    "# Store the values of the circuit parameter\n",
    "angle = [theta]\n",
    "\n",
    "opt_state = opt.init(theta)\n",
    "\n",
    "for n in range(max_iterations):\n",
    "    gradient = jax.grad(loss_f)(theta, beta)\n",
    "    updates, opt_state = opt.update(gradient, opt_state)\n",
    "    theta = optax.apply_updates(theta, updates)\n",
    "    angle.append(theta)\n",
    "    energy.append(loss_f(theta, beta))\n",
    "\n",
    "    conv = jax.numpy.abs(energy[-1] - energy[-2])\n",
    "\n",
    "    if n % 5 == 0:\n",
    "        print(f\"Step = {n},  Energy = {energy[-1]:.8f} Ha\")\n",
    "\n",
    "    if conv <= conv_tol:\n",
    "        break\n",
    "\n",
    "print(f\"\\nEstimated energy: {energy[-1].real:.8f}\")\n",
    "print(f\"\\nOptimised Parameters: {theta}\")"
   ]
  },
  {
   "cell_type": "code",
   "execution_count": 15,
   "id": "11827653-c021-48db-9b48-6657d038b615",
   "metadata": {},
   "outputs": [
    {
     "name": "stdout",
     "output_type": "stream",
     "text": [
      "0.0027833763732739384\n"
     ]
    }
   ],
   "source": [
    "# Verify the expectation values\n",
    "#energy = circuit(theta)\n",
    "s2_val = S2_exp_value(theta)\n",
    "print (s2_val)"
   ]
  },
  {
   "cell_type": "code",
   "execution_count": 52,
   "id": "c71b88be-856d-4472-b308-414455f0a100",
   "metadata": {},
   "outputs": [
    {
     "name": "stdout",
     "output_type": "stream",
     "text": [
      "[-147.63241465+0.j -147.63241465+0.j -147.63241465+0.j -147.57848667+0.j\n",
      " -147.57848667+0.j -147.52790164+0.j -147.3677911 +0.j -147.3677911 +0.j\n",
      " -147.3677911 +0.j -147.3677911 +0.j -147.21867808+0.j -147.21867808+0.j\n",
      " -147.21867808+0.j -147.21867808+0.j -147.15563792+0.j -147.15563792+0.j\n",
      " -147.15563792+0.j -147.15563792+0.j -147.15563792+0.j -147.15563792+0.j\n",
      " -147.07454873+0.j -147.07454873+0.j -146.95437927+0.j -146.95437927+0.j\n",
      " -146.95437927+0.j -146.95437927+0.j -146.8599067 +0.j -146.8599067 +0.j\n",
      " -146.8599067 +0.j -146.8599067 +0.j -146.83274548+0.j -146.83274548+0.j\n",
      " -146.80597872+0.j -146.80597872+0.j -146.78490902+0.j -146.78490902+0.j\n",
      " -146.54107526+0.j -146.53087339+0.j -146.2581239 +0.j -146.2581239 +0.j\n",
      " -146.2581239 +0.j -146.2581239 +0.j -146.23295397+0.j -146.03273253+0.j\n",
      " -146.03273253+0.j -146.03273253+0.j -146.03273253+0.j -146.03273253+0.j\n",
      " -146.03273253+0.j -145.95164334+0.j -145.95164334+0.j -145.40280882+0.j\n",
      " -145.40280882+0.j -145.40280882+0.j -145.34888085+0.j -145.34888085+0.j\n",
      " -145.29229273+0.j -144.53909825+0.j -144.53909825+0.j -143.86616687+0.j\n",
      " -143.86616687+0.j -143.86616687+0.j -143.86616687+0.j -141.75753737+0.j]\n"
     ]
    }
   ],
   "source": [
    "# Compare against eigenvalues from exact diagonalisation\n",
    "print(np.sort(np.linalg.eigvals(H.matrix())))\n"
   ]
  }
 ],
 "metadata": {
  "kernelspec": {
   "display_name": "Python 3 (ipykernel)",
   "language": "python",
   "name": "python3"
  },
  "language_info": {
   "codemirror_mode": {
    "name": "ipython",
    "version": 3
   },
   "file_extension": ".py",
   "mimetype": "text/x-python",
   "name": "python",
   "nbconvert_exporter": "python",
   "pygments_lexer": "ipython3",
   "version": "3.10.10"
  }
 },
 "nbformat": 4,
 "nbformat_minor": 5
}
